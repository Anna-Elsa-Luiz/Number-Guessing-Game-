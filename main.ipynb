{
 "cells": [
  {
   "cell_type": "code",
   "execution_count": 1,
   "metadata": {},
   "outputs": [],
   "source": [
    "import random "
   ]
  },
  {
   "cell_type": "code",
   "execution_count": 18,
   "metadata": {},
   "outputs": [
    {
     "name": "stdout",
     "output_type": "stream",
     "text": [
      "It is Less than 7\n",
      "It is Less than 4\n",
      "It is Less than 6\n",
      "Eureka!!! You nailed it. It\"s 3\n"
     ]
    }
   ],
   "source": [
    "n = random.randrange(1,10)\n",
    "guess = int(input('Can you Guess the number?'))\n",
    "\n",
    "while n!= guess:\n",
    "    if guess < n:\n",
    "       print(f'It is Higher than {guess}')\n",
    "       guess = int(input('Try a number again'))  \n",
    "\n",
    "    elif guess > n:\n",
    "        print(f\"It is Less than {guess}\")\n",
    "        guess = int(input('Try another number again'))  \n",
    "    \n",
    "    else:\n",
    "        break\n",
    "\n",
    "print(f'Eureka!!! You nailed it. It\"s {guess}')\n",
    "        \n"
   ]
  },
  {
   "cell_type": "code",
   "execution_count": null,
   "metadata": {},
   "outputs": [],
   "source": []
  }
 ],
 "metadata": {
  "kernelspec": {
   "display_name": "Python 3",
   "language": "python",
   "name": "python3"
  },
  "language_info": {
   "codemirror_mode": {
    "name": "ipython",
    "version": 3
   },
   "file_extension": ".py",
   "mimetype": "text/x-python",
   "name": "python",
   "nbconvert_exporter": "python",
   "pygments_lexer": "ipython3",
   "version": "3.11.4"
  }
 },
 "nbformat": 4,
 "nbformat_minor": 2
}
